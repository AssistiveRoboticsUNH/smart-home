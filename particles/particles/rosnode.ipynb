{
 "cells": [
  {
   "cell_type": "code",
   "execution_count": 1,
   "metadata": {},
   "outputs": [],
   "source": [
    "import rclpy  \n",
    "from rclpy.node import Node  \n",
    "from nav2_msgs.msg import ParticleCloud, Particle\n",
    "import numpy as np\n",
    "import os\n",
    "from std_msgs.msg import String\n",
    "from rclpy.qos import ReliabilityPolicy\n",
    "from rclpy.qos import QoSProfile\n",
    "from rclpy.qos import  qos_profile_sensor_data\n",
    "from rclpy.qos import qos_profile_system_default\n",
    "from rclpy.node import Node\n",
    "from rclpy.qos import DurabilityPolicy, HistoryPolicy, QoSProfile\n",
    "from geometry_msgs.msg import Quaternion, Pose, Point\n",
    "from nav_msgs.msg import Odometry, Path, OccupancyGrid\n",
    "from sensor_msgs.msg import LaserScan\n",
    "from ament_index_python.packages import get_package_share_directory"
   ]
  },
  {
   "cell_type": "code",
   "execution_count": null,
   "metadata": {},
   "outputs": [],
   "source": []
  },
  {
   "cell_type": "code",
   "execution_count": 2,
   "metadata": {},
   "outputs": [],
   "source": [
    "class HelloROS(Node):\n",
    "    def __init__(self):\n",
    "        super().__init__('hello_ros')\n",
    " \n",
    "        self.create_subscription(Odometry, '/odom',\n",
    "                                 self.odometry_callback, 1) \n",
    "\n",
    "        self.create_subscription(OccupancyGrid, '/map', self.map_callback, 1)\n",
    "\n",
    "\n",
    "\n",
    "    def odometry_callback(self, msg: Odometry):\n",
    "        self.last_odom = msg.pose.pose\n",
    "        \n",
    "    def map_callback(self, msg):\n",
    "        print('----map callback-----')\n",
    "        self.map_msg=msg\n",
    "        header=msg.header\n",
    "        data=msg.data\n",
    "        info=msg.info\n",
    "        origin=info.origin.position\n",
    "        print('new map: ', info.width, info.height)\n",
    "        print('origin:', origin.x, origin.y)\n",
    "\n",
    "        data=np.array(data).reshape(info.height, info.width)\n",
    "        print('data shape: ', data.shape)\n",
    "\n",
    "        data=np.rot90(data)\n",
    "        image = cv2.flip(data, 1)         "
   ]
  },
  {
   "cell_type": "code",
   "execution_count": 3,
   "metadata": {},
   "outputs": [
    {
     "name": "stdout",
     "output_type": "stream",
     "text": [
      "----map callback-----\n",
      "new map:  225 178\n",
      "origin: -8.28 -6.33\n",
      "data shape:  (178, 225)\n"
     ]
    },
    {
     "ename": "NameError",
     "evalue": "name 'cv2' is not defined",
     "output_type": "error",
     "traceback": [
      "\u001b[0;31m---------------------------------------------------------------------------\u001b[0m",
      "\u001b[0;31mNameError\u001b[0m                                 Traceback (most recent call last)",
      "Cell \u001b[0;32mIn [3], line 4\u001b[0m\n\u001b[1;32m      1\u001b[0m rclpy\u001b[39m.\u001b[39minit()\n\u001b[1;32m      2\u001b[0m image_subscriber \u001b[39m=\u001b[39m HelloROS()\n\u001b[0;32m----> 4\u001b[0m rclpy\u001b[39m.\u001b[39;49mspin(image_subscriber)\n\u001b[1;32m      5\u001b[0m image_subscriber\u001b[39m.\u001b[39mdestroy_node()\n\u001b[1;32m      6\u001b[0m rclpy\u001b[39m.\u001b[39mshutdown()\n",
      "File \u001b[0;32m/opt/ros/humble/local/lib/python3.10/dist-packages/rclpy/__init__.py:222\u001b[0m, in \u001b[0;36mspin\u001b[0;34m(node, executor)\u001b[0m\n\u001b[1;32m    220\u001b[0m     executor\u001b[39m.\u001b[39madd_node(node)\n\u001b[1;32m    221\u001b[0m     \u001b[39mwhile\u001b[39;00m executor\u001b[39m.\u001b[39mcontext\u001b[39m.\u001b[39mok():\n\u001b[0;32m--> 222\u001b[0m         executor\u001b[39m.\u001b[39;49mspin_once()\n\u001b[1;32m    223\u001b[0m \u001b[39mfinally\u001b[39;00m:\n\u001b[1;32m    224\u001b[0m     executor\u001b[39m.\u001b[39mremove_node(node)\n",
      "File \u001b[0;32m/opt/ros/humble/local/lib/python3.10/dist-packages/rclpy/executors.py:712\u001b[0m, in \u001b[0;36mSingleThreadedExecutor.spin_once\u001b[0;34m(self, timeout_sec)\u001b[0m\n\u001b[1;32m    710\u001b[0m handler()\n\u001b[1;32m    711\u001b[0m \u001b[39mif\u001b[39;00m handler\u001b[39m.\u001b[39mexception() \u001b[39mis\u001b[39;00m \u001b[39mnot\u001b[39;00m \u001b[39mNone\u001b[39;00m:\n\u001b[0;32m--> 712\u001b[0m     \u001b[39mraise\u001b[39;00m handler\u001b[39m.\u001b[39mexception()\n",
      "File \u001b[0;32m/opt/ros/humble/local/lib/python3.10/dist-packages/rclpy/task.py:239\u001b[0m, in \u001b[0;36mTask.__call__\u001b[0;34m(self)\u001b[0m\n\u001b[1;32m    236\u001b[0m \u001b[39mif\u001b[39;00m inspect\u001b[39m.\u001b[39miscoroutine(\u001b[39mself\u001b[39m\u001b[39m.\u001b[39m_handler):\n\u001b[1;32m    237\u001b[0m     \u001b[39m# Execute a coroutine\u001b[39;00m\n\u001b[1;32m    238\u001b[0m     \u001b[39mtry\u001b[39;00m:\n\u001b[0;32m--> 239\u001b[0m         \u001b[39mself\u001b[39;49m\u001b[39m.\u001b[39;49m_handler\u001b[39m.\u001b[39;49msend(\u001b[39mNone\u001b[39;49;00m)\n\u001b[1;32m    240\u001b[0m     \u001b[39mexcept\u001b[39;00m \u001b[39mStopIteration\u001b[39;00m \u001b[39mas\u001b[39;00m e:\n\u001b[1;32m    241\u001b[0m         \u001b[39m# The coroutine finished; store the result\u001b[39;00m\n\u001b[1;32m    242\u001b[0m         \u001b[39mself\u001b[39m\u001b[39m.\u001b[39m_handler\u001b[39m.\u001b[39mclose()\n",
      "File \u001b[0;32m/opt/ros/humble/local/lib/python3.10/dist-packages/rclpy/executors.py:418\u001b[0m, in \u001b[0;36mExecutor._make_handler.<locals>.handler\u001b[0;34m(entity, gc, is_shutdown, work_tracker)\u001b[0m\n\u001b[1;32m    415\u001b[0m gc\u001b[39m.\u001b[39mtrigger()\n\u001b[1;32m    417\u001b[0m \u001b[39mtry\u001b[39;00m:\n\u001b[0;32m--> 418\u001b[0m     \u001b[39mawait\u001b[39;00m call_coroutine(entity, arg)\n\u001b[1;32m    419\u001b[0m \u001b[39mfinally\u001b[39;00m:\n\u001b[1;32m    420\u001b[0m     entity\u001b[39m.\u001b[39mcallback_group\u001b[39m.\u001b[39mending_execution(entity)\n",
      "File \u001b[0;32m/opt/ros/humble/local/lib/python3.10/dist-packages/rclpy/executors.py:343\u001b[0m, in \u001b[0;36mExecutor._execute_subscription\u001b[0;34m(self, sub, msg)\u001b[0m\n\u001b[1;32m    341\u001b[0m \u001b[39masync\u001b[39;00m \u001b[39mdef\u001b[39;00m \u001b[39m_execute_subscription\u001b[39m(\u001b[39mself\u001b[39m, sub, msg):\n\u001b[1;32m    342\u001b[0m     \u001b[39mif\u001b[39;00m msg:\n\u001b[0;32m--> 343\u001b[0m         \u001b[39mawait\u001b[39;00m await_or_execute(sub\u001b[39m.\u001b[39mcallback, msg)\n",
      "File \u001b[0;32m/opt/ros/humble/local/lib/python3.10/dist-packages/rclpy/executors.py:107\u001b[0m, in \u001b[0;36mawait_or_execute\u001b[0;34m(callback, *args)\u001b[0m\n\u001b[1;32m    104\u001b[0m     \u001b[39mreturn\u001b[39;00m \u001b[39mawait\u001b[39;00m callback(\u001b[39m*\u001b[39margs)\n\u001b[1;32m    105\u001b[0m \u001b[39melse\u001b[39;00m:\n\u001b[1;32m    106\u001b[0m     \u001b[39m# Call a normal function\u001b[39;00m\n\u001b[0;32m--> 107\u001b[0m     \u001b[39mreturn\u001b[39;00m callback(\u001b[39m*\u001b[39;49margs)\n",
      "Cell \u001b[0;32mIn [2], line 29\u001b[0m, in \u001b[0;36mHelloROS.map_callback\u001b[0;34m(self, msg)\u001b[0m\n\u001b[1;32m     26\u001b[0m \u001b[39mprint\u001b[39m(\u001b[39m'\u001b[39m\u001b[39mdata shape: \u001b[39m\u001b[39m'\u001b[39m, data\u001b[39m.\u001b[39mshape)\n\u001b[1;32m     28\u001b[0m data\u001b[39m=\u001b[39mnp\u001b[39m.\u001b[39mrot90(data)\n\u001b[0;32m---> 29\u001b[0m image \u001b[39m=\u001b[39m cv2\u001b[39m.\u001b[39mflip(data, \u001b[39m1\u001b[39m)\n",
      "\u001b[0;31mNameError\u001b[0m: name 'cv2' is not defined"
     ]
    }
   ],
   "source": [
    "rclpy.init()\n",
    "image_subscriber = HelloROS()\n",
    "\n",
    "rclpy.spin(image_subscriber)\n",
    "image_subscriber.destroy_node()\n",
    "rclpy.shutdown()"
   ]
  },
  {
   "cell_type": "code",
   "execution_count": null,
   "metadata": {},
   "outputs": [],
   "source": []
  },
  {
   "cell_type": "code",
   "execution_count": null,
   "metadata": {},
   "outputs": [],
   "source": []
  }
 ],
 "metadata": {
  "kernelspec": {
   "display_name": "Python 3.10.6 64-bit",
   "language": "python",
   "name": "python3"
  },
  "language_info": {
   "codemirror_mode": {
    "name": "ipython",
    "version": 3
   },
   "file_extension": ".py",
   "mimetype": "text/x-python",
   "name": "python",
   "nbconvert_exporter": "python",
   "pygments_lexer": "ipython3",
   "version": "3.10.6"
  },
  "orig_nbformat": 4,
  "vscode": {
   "interpreter": {
    "hash": "916dbcbb3f70747c44a77c7bcd40155683ae19c65e1c03b4aa3499c5328201f1"
   }
  }
 },
 "nbformat": 4,
 "nbformat_minor": 2
}
